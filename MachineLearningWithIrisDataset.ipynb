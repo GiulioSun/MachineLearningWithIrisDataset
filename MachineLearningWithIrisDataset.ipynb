{
  "nbformat": 4,
  "nbformat_minor": 0,
  "metadata": {
    "kernelspec": {
      "display_name": "Python 3",
      "language": "python",
      "name": "python3"
    },
    "language_info": {
      "codemirror_mode": {
        "name": "ipython",
        "version": 3
      },
      "file_extension": ".py",
      "mimetype": "text/x-python",
      "name": "python",
      "nbconvert_exporter": "python",
      "pygments_lexer": "ipython3",
      "version": "3.7.3"
    },
    "colab": {
      "name": "Esercizio2Guardasole .ipynb",
      "provenance": [],
      "collapsed_sections": []
    }
  },
  "cells": [
    {
      "cell_type": "markdown",
      "metadata": {
        "id": "vfeKjwKWp5VH"
      },
      "source": [
        "# <center> Machine Learning </center>\n",
        "# <center> How implement a simple Neural Network with Keras </center>"
      ]
    },
    {
      "cell_type": "code",
      "metadata": {
        "id": "m0iJyfWep5VN"
      },
      "source": [
        "import numpy as np\n",
        "import matplotlib.pyplot as plt\n",
        "%matplotlib inline\n",
        "from sklearn.model_selection import train_test_split\n",
        "from sklearn.datasets import load_iris\n",
        "import tensorflow as tf\n",
        "from tensorflow.keras.layers import Input, Dense\n",
        "from tensorflow.keras.models import Model\n",
        "from tensorflow.keras.utils import to_categorical\n",
        "\n",
        "iris_data = load_iris()"
      ],
      "execution_count": null,
      "outputs": []
    },
    {
      "cell_type": "code",
      "metadata": {
        "id": "vMqZOU-ep5VO",
        "colab": {
          "base_uri": "https://localhost:8080/"
        },
        "outputId": "e39d1c2f-6520-4363-808f-d182b0ef0667"
      },
      "source": [
        "print(iris_data['DESCR'])"
      ],
      "execution_count": null,
      "outputs": [
        {
          "output_type": "stream",
          "text": [
            ".. _iris_dataset:\n",
            "\n",
            "Iris plants dataset\n",
            "--------------------\n",
            "\n",
            "**Data Set Characteristics:**\n",
            "\n",
            "    :Number of Instances: 150 (50 in each of three classes)\n",
            "    :Number of Attributes: 4 numeric, predictive attributes and the class\n",
            "    :Attribute Information:\n",
            "        - sepal length in cm\n",
            "        - sepal width in cm\n",
            "        - petal length in cm\n",
            "        - petal width in cm\n",
            "        - class:\n",
            "                - Iris-Setosa\n",
            "                - Iris-Versicolour\n",
            "                - Iris-Virginica\n",
            "                \n",
            "    :Summary Statistics:\n",
            "\n",
            "    ============== ==== ==== ======= ===== ====================\n",
            "                    Min  Max   Mean    SD   Class Correlation\n",
            "    ============== ==== ==== ======= ===== ====================\n",
            "    sepal length:   4.3  7.9   5.84   0.83    0.7826\n",
            "    sepal width:    2.0  4.4   3.05   0.43   -0.4194\n",
            "    petal length:   1.0  6.9   3.76   1.76    0.9490  (high!)\n",
            "    petal width:    0.1  2.5   1.20   0.76    0.9565  (high!)\n",
            "    ============== ==== ==== ======= ===== ====================\n",
            "\n",
            "    :Missing Attribute Values: None\n",
            "    :Class Distribution: 33.3% for each of 3 classes.\n",
            "    :Creator: R.A. Fisher\n",
            "    :Donor: Michael Marshall (MARSHALL%PLU@io.arc.nasa.gov)\n",
            "    :Date: July, 1988\n",
            "\n",
            "The famous Iris database, first used by Sir R.A. Fisher. The dataset is taken\n",
            "from Fisher's paper. Note that it's the same as in R, but not as in the UCI\n",
            "Machine Learning Repository, which has two wrong data points.\n",
            "\n",
            "This is perhaps the best known database to be found in the\n",
            "pattern recognition literature.  Fisher's paper is a classic in the field and\n",
            "is referenced frequently to this day.  (See Duda & Hart, for example.)  The\n",
            "data set contains 3 classes of 50 instances each, where each class refers to a\n",
            "type of iris plant.  One class is linearly separable from the other 2; the\n",
            "latter are NOT linearly separable from each other.\n",
            "\n",
            ".. topic:: References\n",
            "\n",
            "   - Fisher, R.A. \"The use of multiple measurements in taxonomic problems\"\n",
            "     Annual Eugenics, 7, Part II, 179-188 (1936); also in \"Contributions to\n",
            "     Mathematical Statistics\" (John Wiley, NY, 1950).\n",
            "   - Duda, R.O., & Hart, P.E. (1973) Pattern Classification and Scene Analysis.\n",
            "     (Q327.D83) John Wiley & Sons.  ISBN 0-471-22361-1.  See page 218.\n",
            "   - Dasarathy, B.V. (1980) \"Nosing Around the Neighborhood: A New System\n",
            "     Structure and Classification Rule for Recognition in Partially Exposed\n",
            "     Environments\".  IEEE Transactions on Pattern Analysis and Machine\n",
            "     Intelligence, Vol. PAMI-2, No. 1, 67-71.\n",
            "   - Gates, G.W. (1972) \"The Reduced Nearest Neighbor Rule\".  IEEE Transactions\n",
            "     on Information Theory, May 1972, 431-433.\n",
            "   - See also: 1988 MLC Proceedings, 54-64.  Cheeseman et al\"s AUTOCLASS II\n",
            "     conceptual clustering system finds 3 classes in the data.\n",
            "   - Many, many more ...\n"
          ],
          "name": "stdout"
        }
      ]
    },
    {
      "cell_type": "code",
      "metadata": {
        "id": "n3YNmWJap5VO",
        "colab": {
          "base_uri": "https://localhost:8080/"
        },
        "outputId": "3553053c-437a-4390-bd63-7cf08af99b4f"
      },
      "source": [
        "y = iris_data.target\n",
        "X = iris_data.data\n",
        "n_samples, n_features = X.shape\n",
        "print('number of rows:',n_samples,'  number of column:', n_features)"
      ],
      "execution_count": null,
      "outputs": [
        {
          "output_type": "stream",
          "text": [
            "number of rows: 150   number of column: 4\n"
          ],
          "name": "stdout"
        }
      ]
    },
    {
      "cell_type": "code",
      "metadata": {
        "id": "AT7JLV1np5VO"
      },
      "source": [
        "\n",
        "X_train, X_test, y_tn, y_tt = train_test_split(X, y, test_size = 0.3, random_state = 21, stratify = y)"
      ],
      "execution_count": null,
      "outputs": []
    },
    {
      "cell_type": "markdown",
      "metadata": {
        "id": "UvO4eM6fp5VP"
      },
      "source": [
        "### Transform the target  y (that is a categorical variable) as a dummy matrix, both for training and test"
      ]
    },
    {
      "cell_type": "code",
      "metadata": {
        "id": "k1KHMdcAp5VP"
      },
      "source": [
        "y_train = to_categorical(y_tn)\n",
        "y_test = to_categorical(y_tt)"
      ],
      "execution_count": null,
      "outputs": []
    },
    {
      "cell_type": "code",
      "metadata": {
        "id": "gk62jXUpp5VP",
        "colab": {
          "base_uri": "https://localhost:8080/"
        },
        "outputId": "ae34f353-0cb2-42fe-a7e5-c2a8d3d10e56"
      },
      "source": [
        "input = Input(shape = (4,))\n",
        "x = Dense(40, activation = 'relu')(input)\n",
        "x = Dense(20, activation = 'relu')(x)\n",
        "x = Dense(20, activation = 'relu')(x)\n",
        "output = Dense(3, activation = 'softmax')(x)\n",
        "model = Model(input, output)\n",
        "\n",
        "model.compile(optimizer='adam', loss='categorical_crossentropy', metrics=['accuracy'])\n",
        "model.summary()"
      ],
      "execution_count": null,
      "outputs": [
        {
          "output_type": "stream",
          "text": [
            "Model: \"model_1\"\n",
            "_________________________________________________________________\n",
            "Layer (type)                 Output Shape              Param #   \n",
            "=================================================================\n",
            "input_2 (InputLayer)         [(None, 4)]               0         \n",
            "_________________________________________________________________\n",
            "dense_4 (Dense)              (None, 40)                200       \n",
            "_________________________________________________________________\n",
            "dense_5 (Dense)              (None, 20)                820       \n",
            "_________________________________________________________________\n",
            "dense_6 (Dense)              (None, 20)                420       \n",
            "_________________________________________________________________\n",
            "dense_7 (Dense)              (None, 3)                 63        \n",
            "=================================================================\n",
            "Total params: 1,503\n",
            "Trainable params: 1,503\n",
            "Non-trainable params: 0\n",
            "_________________________________________________________________\n"
          ],
          "name": "stdout"
        }
      ]
    },
    {
      "cell_type": "code",
      "metadata": {
        "id": "MZNDQ6uRp5VQ"
      },
      "source": [
        "model.compile(optimizer='adam', loss='categorical_crossentropy', metrics=['accuracy'])"
      ],
      "execution_count": null,
      "outputs": []
    },
    {
      "cell_type": "markdown",
      "metadata": {
        "id": "nn8MrQpPp5VQ"
      },
      "source": [
        "### Model fitting\n"
      ]
    },
    {
      "cell_type": "code",
      "metadata": {
        "id": "CgQlMITup5VQ",
        "colab": {
          "base_uri": "https://localhost:8080/"
        },
        "outputId": "5f173dcb-e365-4fcf-9ce6-f1945493b5ed"
      },
      "source": [
        "history = model.fit(X_train,y_train,epochs=100, validation_data = (X_test,y_test))"
      ],
      "execution_count": null,
      "outputs": [
        {
          "output_type": "stream",
          "text": [
            "Epoch 1/100\n",
            "4/4 [==============================] - 1s 192ms/step - loss: 1.6073 - accuracy: 0.3521 - val_loss: 1.4596 - val_accuracy: 0.3333\n",
            "Epoch 2/100\n",
            "4/4 [==============================] - 0s 18ms/step - loss: 1.4011 - accuracy: 0.3438 - val_loss: 1.2822 - val_accuracy: 0.3333\n",
            "Epoch 3/100\n",
            "4/4 [==============================] - 0s 18ms/step - loss: 1.2597 - accuracy: 0.3281 - val_loss: 1.1808 - val_accuracy: 0.3333\n",
            "Epoch 4/100\n",
            "4/4 [==============================] - 0s 20ms/step - loss: 1.1595 - accuracy: 0.3438 - val_loss: 1.1297 - val_accuracy: 0.3333\n",
            "Epoch 5/100\n",
            "4/4 [==============================] - 0s 18ms/step - loss: 1.1233 - accuracy: 0.3385 - val_loss: 1.0900 - val_accuracy: 0.3333\n",
            "Epoch 6/100\n",
            "4/4 [==============================] - 0s 18ms/step - loss: 1.0794 - accuracy: 0.3326 - val_loss: 1.0559 - val_accuracy: 0.5778\n",
            "Epoch 7/100\n",
            "4/4 [==============================] - 0s 18ms/step - loss: 1.0398 - accuracy: 0.6400 - val_loss: 1.0284 - val_accuracy: 0.6222\n",
            "Epoch 8/100\n",
            "4/4 [==============================] - 0s 17ms/step - loss: 1.0171 - accuracy: 0.6743 - val_loss: 1.0031 - val_accuracy: 0.6222\n",
            "Epoch 9/100\n",
            "4/4 [==============================] - 0s 16ms/step - loss: 0.9909 - accuracy: 0.6507 - val_loss: 0.9777 - val_accuracy: 0.6222\n",
            "Epoch 10/100\n",
            "4/4 [==============================] - 0s 18ms/step - loss: 0.9711 - accuracy: 0.6545 - val_loss: 0.9536 - val_accuracy: 0.6667\n",
            "Epoch 11/100\n",
            "4/4 [==============================] - 0s 18ms/step - loss: 0.9465 - accuracy: 0.6667 - val_loss: 0.9299 - val_accuracy: 0.6667\n",
            "Epoch 12/100\n",
            "4/4 [==============================] - 0s 16ms/step - loss: 0.9260 - accuracy: 0.6542 - val_loss: 0.9051 - val_accuracy: 0.6667\n",
            "Epoch 13/100\n",
            "4/4 [==============================] - 0s 17ms/step - loss: 0.9003 - accuracy: 0.6552 - val_loss: 0.8793 - val_accuracy: 0.6667\n",
            "Epoch 14/100\n",
            "4/4 [==============================] - 0s 17ms/step - loss: 0.8716 - accuracy: 0.6792 - val_loss: 0.8523 - val_accuracy: 0.6667\n",
            "Epoch 15/100\n",
            "4/4 [==============================] - 0s 18ms/step - loss: 0.8412 - accuracy: 0.6833 - val_loss: 0.8240 - val_accuracy: 0.6667\n",
            "Epoch 16/100\n",
            "4/4 [==============================] - 0s 18ms/step - loss: 0.8193 - accuracy: 0.6635 - val_loss: 0.7967 - val_accuracy: 0.6667\n",
            "Epoch 17/100\n",
            "4/4 [==============================] - 0s 16ms/step - loss: 0.7868 - accuracy: 0.6792 - val_loss: 0.7700 - val_accuracy: 0.6889\n",
            "Epoch 18/100\n",
            "4/4 [==============================] - 0s 20ms/step - loss: 0.7666 - accuracy: 0.7839 - val_loss: 0.7441 - val_accuracy: 0.8667\n",
            "Epoch 19/100\n",
            "4/4 [==============================] - 0s 19ms/step - loss: 0.7407 - accuracy: 0.8914 - val_loss: 0.7181 - val_accuracy: 0.8667\n",
            "Epoch 20/100\n",
            "4/4 [==============================] - 0s 20ms/step - loss: 0.6946 - accuracy: 0.8824 - val_loss: 0.6930 - val_accuracy: 0.8222\n",
            "Epoch 21/100\n",
            "4/4 [==============================] - 0s 17ms/step - loss: 0.6800 - accuracy: 0.9237 - val_loss: 0.6670 - val_accuracy: 0.8667\n",
            "Epoch 22/100\n",
            "4/4 [==============================] - 0s 17ms/step - loss: 0.6513 - accuracy: 0.9334 - val_loss: 0.6416 - val_accuracy: 0.9111\n",
            "Epoch 23/100\n",
            "4/4 [==============================] - 0s 17ms/step - loss: 0.6588 - accuracy: 0.8914 - val_loss: 0.6178 - val_accuracy: 0.8889\n",
            "Epoch 24/100\n",
            "4/4 [==============================] - 0s 22ms/step - loss: 0.6084 - accuracy: 0.8349 - val_loss: 0.5940 - val_accuracy: 0.8222\n",
            "Epoch 25/100\n",
            "4/4 [==============================] - 0s 22ms/step - loss: 0.6069 - accuracy: 0.7492 - val_loss: 0.5675 - val_accuracy: 0.8889\n",
            "Epoch 26/100\n",
            "4/4 [==============================] - 0s 21ms/step - loss: 0.5359 - accuracy: 0.8207 - val_loss: 0.5439 - val_accuracy: 0.8667\n",
            "Epoch 27/100\n",
            "4/4 [==============================] - 0s 20ms/step - loss: 0.5279 - accuracy: 0.8536 - val_loss: 0.5222 - val_accuracy: 0.9111\n",
            "Epoch 28/100\n",
            "4/4 [==============================] - 0s 19ms/step - loss: 0.5368 - accuracy: 0.8883 - val_loss: 0.5042 - val_accuracy: 0.9111\n",
            "Epoch 29/100\n",
            "4/4 [==============================] - 0s 18ms/step - loss: 0.4997 - accuracy: 0.9851 - val_loss: 0.4898 - val_accuracy: 0.9111\n",
            "Epoch 30/100\n",
            "4/4 [==============================] - 0s 16ms/step - loss: 0.4892 - accuracy: 0.9608 - val_loss: 0.4735 - val_accuracy: 0.9111\n",
            "Epoch 31/100\n",
            "4/4 [==============================] - 0s 17ms/step - loss: 0.4535 - accuracy: 0.9660 - val_loss: 0.4551 - val_accuracy: 0.9333\n",
            "Epoch 32/100\n",
            "4/4 [==============================] - 0s 17ms/step - loss: 0.4421 - accuracy: 0.9820 - val_loss: 0.4414 - val_accuracy: 0.9111\n",
            "Epoch 33/100\n",
            "4/4 [==============================] - 0s 18ms/step - loss: 0.4286 - accuracy: 0.9872 - val_loss: 0.4274 - val_accuracy: 0.9333\n",
            "Epoch 34/100\n",
            "4/4 [==============================] - 0s 19ms/step - loss: 0.4176 - accuracy: 0.9757 - val_loss: 0.4123 - val_accuracy: 0.9333\n",
            "Epoch 35/100\n",
            "4/4 [==============================] - 0s 17ms/step - loss: 0.3881 - accuracy: 0.9452 - val_loss: 0.3986 - val_accuracy: 0.9333\n",
            "Epoch 36/100\n",
            "4/4 [==============================] - 0s 19ms/step - loss: 0.3706 - accuracy: 0.9154 - val_loss: 0.3862 - val_accuracy: 0.9556\n",
            "Epoch 37/100\n",
            "4/4 [==============================] - 0s 21ms/step - loss: 0.3644 - accuracy: 0.9636 - val_loss: 0.3767 - val_accuracy: 0.9333\n",
            "Epoch 38/100\n",
            "4/4 [==============================] - 0s 17ms/step - loss: 0.3338 - accuracy: 0.9962 - val_loss: 0.3652 - val_accuracy: 0.9111\n",
            "Epoch 39/100\n",
            "4/4 [==============================] - 0s 18ms/step - loss: 0.3457 - accuracy: 0.9851 - val_loss: 0.3533 - val_accuracy: 0.9111\n",
            "Epoch 40/100\n",
            "4/4 [==============================] - 0s 19ms/step - loss: 0.3545 - accuracy: 0.9771 - val_loss: 0.3396 - val_accuracy: 0.9111\n",
            "Epoch 41/100\n",
            "4/4 [==============================] - 0s 18ms/step - loss: 0.3311 - accuracy: 0.9757 - val_loss: 0.3254 - val_accuracy: 0.9556\n",
            "Epoch 42/100\n",
            "4/4 [==============================] - 0s 22ms/step - loss: 0.3186 - accuracy: 0.9761 - val_loss: 0.3120 - val_accuracy: 0.9556\n",
            "Epoch 43/100\n",
            "4/4 [==============================] - 0s 18ms/step - loss: 0.2855 - accuracy: 0.9612 - val_loss: 0.3008 - val_accuracy: 0.9556\n",
            "Epoch 44/100\n",
            "4/4 [==============================] - 0s 20ms/step - loss: 0.2750 - accuracy: 0.9702 - val_loss: 0.2945 - val_accuracy: 0.9111\n",
            "Epoch 45/100\n",
            "4/4 [==============================] - 0s 20ms/step - loss: 0.2776 - accuracy: 0.9962 - val_loss: 0.2877 - val_accuracy: 0.9111\n",
            "Epoch 46/100\n",
            "4/4 [==============================] - 0s 18ms/step - loss: 0.2639 - accuracy: 0.9698 - val_loss: 0.2751 - val_accuracy: 0.9111\n",
            "Epoch 47/100\n",
            "4/4 [==============================] - 0s 18ms/step - loss: 0.2461 - accuracy: 0.9788 - val_loss: 0.2620 - val_accuracy: 0.9556\n",
            "Epoch 48/100\n",
            "4/4 [==============================] - 0s 16ms/step - loss: 0.2587 - accuracy: 0.9604 - val_loss: 0.2525 - val_accuracy: 0.9778\n",
            "Epoch 49/100\n",
            "4/4 [==============================] - 0s 18ms/step - loss: 0.2325 - accuracy: 0.9851 - val_loss: 0.2456 - val_accuracy: 0.9778\n",
            "Epoch 50/100\n",
            "4/4 [==============================] - 0s 17ms/step - loss: 0.2264 - accuracy: 0.9882 - val_loss: 0.2400 - val_accuracy: 0.9111\n",
            "Epoch 51/100\n",
            "4/4 [==============================] - 0s 19ms/step - loss: 0.2299 - accuracy: 0.9847 - val_loss: 0.2408 - val_accuracy: 0.9111\n",
            "Epoch 52/100\n",
            "4/4 [==============================] - 0s 17ms/step - loss: 0.2034 - accuracy: 0.9809 - val_loss: 0.2217 - val_accuracy: 0.9778\n",
            "Epoch 53/100\n",
            "4/4 [==============================] - 0s 17ms/step - loss: 0.2057 - accuracy: 0.9729 - val_loss: 0.2179 - val_accuracy: 0.9556\n",
            "Epoch 54/100\n",
            "4/4 [==============================] - 0s 18ms/step - loss: 0.1831 - accuracy: 0.9698 - val_loss: 0.2237 - val_accuracy: 0.9111\n",
            "Epoch 55/100\n",
            "4/4 [==============================] - 0s 17ms/step - loss: 0.1982 - accuracy: 0.9518 - val_loss: 0.2230 - val_accuracy: 0.9111\n",
            "Epoch 56/100\n",
            "4/4 [==============================] - 0s 17ms/step - loss: 0.1871 - accuracy: 0.9847 - val_loss: 0.2005 - val_accuracy: 0.9556\n",
            "Epoch 57/100\n",
            "4/4 [==============================] - 0s 17ms/step - loss: 0.1874 - accuracy: 0.9518 - val_loss: 0.1941 - val_accuracy: 0.9778\n",
            "Epoch 58/100\n",
            "4/4 [==============================] - 0s 19ms/step - loss: 0.1778 - accuracy: 0.9851 - val_loss: 0.2022 - val_accuracy: 0.9111\n",
            "Epoch 59/100\n",
            "4/4 [==============================] - 0s 19ms/step - loss: 0.1721 - accuracy: 0.9636 - val_loss: 0.1942 - val_accuracy: 0.9111\n",
            "Epoch 60/100\n",
            "4/4 [==============================] - 0s 19ms/step - loss: 0.1561 - accuracy: 0.9750 - val_loss: 0.1803 - val_accuracy: 0.9778\n",
            "Epoch 61/100\n",
            "4/4 [==============================] - 0s 19ms/step - loss: 0.1508 - accuracy: 0.9882 - val_loss: 0.1780 - val_accuracy: 0.9778\n",
            "Epoch 62/100\n",
            "4/4 [==============================] - 0s 18ms/step - loss: 0.1441 - accuracy: 0.9851 - val_loss: 0.1727 - val_accuracy: 0.9778\n",
            "Epoch 63/100\n",
            "4/4 [==============================] - 0s 18ms/step - loss: 0.1560 - accuracy: 0.9695 - val_loss: 0.1761 - val_accuracy: 0.9111\n",
            "Epoch 64/100\n",
            "4/4 [==============================] - 0s 19ms/step - loss: 0.1365 - accuracy: 0.9750 - val_loss: 0.1718 - val_accuracy: 0.9111\n",
            "Epoch 65/100\n",
            "4/4 [==============================] - 0s 22ms/step - loss: 0.1434 - accuracy: 0.9847 - val_loss: 0.1637 - val_accuracy: 0.9778\n",
            "Epoch 66/100\n",
            "4/4 [==============================] - 0s 18ms/step - loss: 0.1283 - accuracy: 0.9820 - val_loss: 0.1611 - val_accuracy: 0.9778\n",
            "Epoch 67/100\n",
            "4/4 [==============================] - 0s 18ms/step - loss: 0.1355 - accuracy: 0.9788 - val_loss: 0.1601 - val_accuracy: 0.9778\n",
            "Epoch 68/100\n",
            "4/4 [==============================] - 0s 18ms/step - loss: 0.1093 - accuracy: 0.9691 - val_loss: 0.1595 - val_accuracy: 0.9111\n",
            "Epoch 69/100\n",
            "4/4 [==============================] - 0s 17ms/step - loss: 0.1196 - accuracy: 0.9910 - val_loss: 0.1539 - val_accuracy: 0.9778\n",
            "Epoch 70/100\n",
            "4/4 [==============================] - 0s 19ms/step - loss: 0.1341 - accuracy: 0.9695 - val_loss: 0.1519 - val_accuracy: 0.9778\n",
            "Epoch 71/100\n",
            "4/4 [==============================] - 0s 20ms/step - loss: 0.1155 - accuracy: 0.9788 - val_loss: 0.1614 - val_accuracy: 0.9111\n",
            "Epoch 72/100\n",
            "4/4 [==============================] - 0s 19ms/step - loss: 0.1022 - accuracy: 0.9813 - val_loss: 0.1655 - val_accuracy: 0.9111\n",
            "Epoch 73/100\n",
            "4/4 [==============================] - 0s 19ms/step - loss: 0.0993 - accuracy: 0.9792 - val_loss: 0.1487 - val_accuracy: 0.9333\n",
            "Epoch 74/100\n",
            "4/4 [==============================] - 0s 15ms/step - loss: 0.1053 - accuracy: 0.9757 - val_loss: 0.1450 - val_accuracy: 0.9778\n",
            "Epoch 75/100\n",
            "4/4 [==============================] - 0s 19ms/step - loss: 0.1032 - accuracy: 0.9788 - val_loss: 0.1435 - val_accuracy: 0.9778\n",
            "Epoch 76/100\n",
            "4/4 [==============================] - 0s 19ms/step - loss: 0.0969 - accuracy: 0.9872 - val_loss: 0.1458 - val_accuracy: 0.9333\n",
            "Epoch 77/100\n",
            "4/4 [==============================] - 0s 18ms/step - loss: 0.0875 - accuracy: 0.9882 - val_loss: 0.1500 - val_accuracy: 0.9111\n",
            "Epoch 78/100\n",
            "4/4 [==============================] - 0s 17ms/step - loss: 0.1027 - accuracy: 0.9604 - val_loss: 0.1414 - val_accuracy: 0.9556\n",
            "Epoch 79/100\n",
            "4/4 [==============================] - 0s 17ms/step - loss: 0.0891 - accuracy: 0.9851 - val_loss: 0.1378 - val_accuracy: 0.9778\n",
            "Epoch 80/100\n",
            "4/4 [==============================] - 0s 17ms/step - loss: 0.1078 - accuracy: 0.9757 - val_loss: 0.1411 - val_accuracy: 0.9333\n",
            "Epoch 81/100\n",
            "4/4 [==============================] - 0s 21ms/step - loss: 0.0986 - accuracy: 0.9788 - val_loss: 0.1380 - val_accuracy: 0.9556\n",
            "Epoch 82/100\n",
            "4/4 [==============================] - 0s 18ms/step - loss: 0.0867 - accuracy: 0.9757 - val_loss: 0.1342 - val_accuracy: 0.9778\n",
            "Epoch 83/100\n",
            "4/4 [==============================] - 0s 21ms/step - loss: 0.0979 - accuracy: 0.9847 - val_loss: 0.1397 - val_accuracy: 0.9111\n",
            "Epoch 84/100\n",
            "4/4 [==============================] - 0s 17ms/step - loss: 0.0897 - accuracy: 0.9792 - val_loss: 0.1400 - val_accuracy: 0.9111\n",
            "Epoch 85/100\n",
            "4/4 [==============================] - 0s 17ms/step - loss: 0.0931 - accuracy: 0.9695 - val_loss: 0.1316 - val_accuracy: 0.9778\n",
            "Epoch 86/100\n",
            "4/4 [==============================] - 0s 16ms/step - loss: 0.0848 - accuracy: 0.9851 - val_loss: 0.1307 - val_accuracy: 0.9778\n",
            "Epoch 87/100\n",
            "4/4 [==============================] - 0s 21ms/step - loss: 0.0796 - accuracy: 0.9872 - val_loss: 0.1323 - val_accuracy: 0.9556\n",
            "Epoch 88/100\n",
            "4/4 [==============================] - 0s 19ms/step - loss: 0.0868 - accuracy: 0.9910 - val_loss: 0.1399 - val_accuracy: 0.9111\n",
            "Epoch 89/100\n",
            "4/4 [==============================] - 0s 18ms/step - loss: 0.0804 - accuracy: 0.9761 - val_loss: 0.1305 - val_accuracy: 0.9556\n",
            "Epoch 90/100\n",
            "4/4 [==============================] - 0s 18ms/step - loss: 0.0752 - accuracy: 0.9941 - val_loss: 0.1286 - val_accuracy: 0.9778\n",
            "Epoch 91/100\n",
            "4/4 [==============================] - 0s 18ms/step - loss: 0.0837 - accuracy: 0.9847 - val_loss: 0.1312 - val_accuracy: 0.9333\n",
            "Epoch 92/100\n",
            "4/4 [==============================] - 0s 18ms/step - loss: 0.0833 - accuracy: 0.9847 - val_loss: 0.1284 - val_accuracy: 0.9778\n",
            "Epoch 93/100\n",
            "4/4 [==============================] - 0s 18ms/step - loss: 0.0717 - accuracy: 0.9910 - val_loss: 0.1375 - val_accuracy: 0.9111\n",
            "Epoch 94/100\n",
            "4/4 [==============================] - 0s 18ms/step - loss: 0.0815 - accuracy: 0.9792 - val_loss: 0.1481 - val_accuracy: 0.9111\n",
            "Epoch 95/100\n",
            "4/4 [==============================] - 0s 20ms/step - loss: 0.0659 - accuracy: 0.9729 - val_loss: 0.1280 - val_accuracy: 0.9556\n",
            "Epoch 96/100\n",
            "4/4 [==============================] - 0s 20ms/step - loss: 0.0772 - accuracy: 0.9820 - val_loss: 0.1284 - val_accuracy: 0.9778\n",
            "Epoch 97/100\n",
            "4/4 [==============================] - 0s 19ms/step - loss: 0.0905 - accuracy: 0.9788 - val_loss: 0.1257 - val_accuracy: 0.9778\n",
            "Epoch 98/100\n",
            "4/4 [==============================] - 0s 22ms/step - loss: 0.0682 - accuracy: 0.9941 - val_loss: 0.1334 - val_accuracy: 0.9111\n",
            "Epoch 99/100\n",
            "4/4 [==============================] - 0s 17ms/step - loss: 0.0759 - accuracy: 0.9729 - val_loss: 0.1299 - val_accuracy: 0.9333\n",
            "Epoch 100/100\n",
            "4/4 [==============================] - 0s 20ms/step - loss: 0.0741 - accuracy: 0.9882 - val_loss: 0.1245 - val_accuracy: 0.9778\n"
          ],
          "name": "stdout"
        }
      ]
    },
    {
      "cell_type": "markdown",
      "metadata": {
        "id": "LOPRnBwRp5VQ"
      },
      "source": [
        "### history of fitting"
      ]
    },
    {
      "cell_type": "code",
      "metadata": {
        "id": "1_lDIcLkp5VQ",
        "colab": {
          "base_uri": "https://localhost:8080/",
          "height": 573
        },
        "outputId": "4ea177ab-b58e-404d-dd22-51ae4b855288"
      },
      "source": [
        "# Plot training & validation accuracy values\n",
        "plt.plot(history.history['accuracy'])\n",
        "plt.plot(history.history['val_accuracy'])\n",
        "plt.title('Model accuracy')\n",
        "plt.ylabel('Accuracy')\n",
        "plt.xlabel('Epoch')\n",
        "plt.legend(['Train', 'Test'], loc='upper left')\n",
        "plt.show()\n",
        "\n",
        "# Plot training & validation loss values\n",
        "plt.plot(history.history['loss'])\n",
        "plt.plot(history.history['val_loss'])\n",
        "plt.title('Model loss')\n",
        "plt.ylabel('Loss')\n",
        "plt.xlabel('Epoch')\n",
        "plt.legend(['Train', 'Test'], loc='upper left')\n",
        "plt.show()"
      ],
      "execution_count": null,
      "outputs": [
        {
          "output_type": "display_data",
          "data": {
            "image/png": "[encoded data removed]",
            "text/plain": [
              "<Figure size 432x288 with 1 Axes>"
            ]
          },
          "metadata": {
            "tags": [],
            "needs_background": "light"
          }
        },
        {
          "output_type": "display_data",
          "data": {
            "image/png": "[encoded data removed]",
            "text/plain": [
              "<Figure size 432x288 with 1 Axes>"
            ]
          },
          "metadata": {
            "tags": [],
            "needs_background": "light"
          }
        }
      ]
    }
  ]
}